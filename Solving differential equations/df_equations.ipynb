{
 "cells": [
  {
   "cell_type": "code",
   "execution_count": 1,
   "id": "e3ac3ccd",
   "metadata": {},
   "outputs": [],
   "source": [
    "import numpy as np\n",
    "import matplotlib.pyplot as plt\n",
    "import matplotlib.ticker as ticker"
   ]
  },
  {
   "cell_type": "code",
   "execution_count": 2,
   "id": "9374feff",
   "metadata": {},
   "outputs": [
    {
     "data": {
      "text/plain": [
       "[0.0, 0.1, 0.2, 0.3, 0.4, 0.5, 0.6, 0.7, 0.8, 0.9, 1.0]"
      ]
     },
     "execution_count": 2,
     "metadata": {},
     "output_type": "execute_result"
    }
   ],
   "source": [
    "a = 0\n",
    "b = 1\n",
    "h = 0.1\n",
    "n = int((b-a)/h)\n",
    "x = [round(a + h*i, 1) for i in range(n+1)]\n",
    "x"
   ]
  },
  {
   "cell_type": "code",
   "execution_count": 3,
   "id": "b45c94c6",
   "metadata": {},
   "outputs": [
    {
     "data": {
      "text/plain": [
       "10"
      ]
     },
     "execution_count": 3,
     "metadata": {},
     "output_type": "execute_result"
    }
   ],
   "source": [
    "n"
   ]
  },
  {
   "cell_type": "code",
   "execution_count": 4,
   "id": "5a527868",
   "metadata": {},
   "outputs": [],
   "source": [
    "def f(x, y):\n",
    "    return ((0.4*x + 0.3*y)*(1-x*y))/(-x-0.2*y)"
   ]
  },
  {
   "cell_type": "markdown",
   "id": "e17cbb7a",
   "metadata": {},
   "source": [
    "# Метод Ейлера"
   ]
  },
  {
   "cell_type": "code",
   "execution_count": 5,
   "id": "ee329a92",
   "metadata": {},
   "outputs": [],
   "source": [
    "y = [1.05]"
   ]
  },
  {
   "cell_type": "code",
   "execution_count": 6,
   "id": "1aa302f5",
   "metadata": {},
   "outputs": [],
   "source": [
    "for i in range(n):\n",
    "    y.append(y[i] + h*(f(x[i], y[i])))"
   ]
  },
  {
   "cell_type": "code",
   "execution_count": 7,
   "id": "8e20360c",
   "metadata": {},
   "outputs": [
    {
     "name": "stdout",
     "output_type": "stream",
     "text": [
      "1.05 0.9 0.799 0.725 0.665 0.616 0.573 0.535 0.501 0.47 0.441\n"
     ]
    }
   ],
   "source": [
    "y = [round(x, 3) for x in y]\n",
    "print(*y)"
   ]
  },
  {
   "cell_type": "code",
   "execution_count": 8,
   "id": "b2ad02cb",
   "metadata": {},
   "outputs": [
    {
     "data": {
      "text/plain": [
       "11"
      ]
     },
     "execution_count": 8,
     "metadata": {},
     "output_type": "execute_result"
    }
   ],
   "source": [
    "len(y)"
   ]
  },
  {
   "cell_type": "code",
   "execution_count": 10,
   "id": "4b19f61f",
   "metadata": {},
   "outputs": [
    {
     "data": {
      "image/png": "[encoded data removed]",
      "text/plain": [
       "<Figure size 432x288 with 1 Axes>"
      ]
     },
     "metadata": {
      "needs_background": "light"
     },
     "output_type": "display_data"
    }
   ],
   "source": [
    "fig, ax = plt.subplots()\n",
    "#plt.rcParams[\"figure.figsize\"] = (20, 20)\n",
    "ax.xaxis.set_major_locator(ticker.MultipleLocator(0.1))\n",
    "ax.yaxis.set_major_locator(ticker.MultipleLocator(0.05))\n",
    "plt.grid()\n",
    "plt.title('Метод Ейлера')\n",
    "plt.xlabel(\"X\")\n",
    "plt.ylabel(\"Y\")\n",
    "plt.plot(x, y, c=\"r\")\n",
    "plt.savefig(\"euler_method.jpg\")"
   ]
  },
  {
   "cell_type": "markdown",
   "id": "8b1f022c",
   "metadata": {},
   "source": [
    "# Метод Рунге-Кутта"
   ]
  },
  {
   "cell_type": "code",
   "execution_count": 11,
   "id": "226ca8f0",
   "metadata": {},
   "outputs": [],
   "source": [
    "y_2 = [1.05]"
   ]
  },
  {
   "cell_type": "code",
   "execution_count": 12,
   "id": "236d380d",
   "metadata": {},
   "outputs": [],
   "source": [
    "#k_1 = [y_f(x[0], y_2[0])*h]\n",
    "k_1 = []"
   ]
  },
  {
   "cell_type": "code",
   "execution_count": 13,
   "id": "fb7ee0f8",
   "metadata": {},
   "outputs": [],
   "source": [
    "#k_2 = [y_f(x[0] + h/2, y_2[0] + k_1[0]/2)*h]\n",
    "k_2 = []"
   ]
  },
  {
   "cell_type": "code",
   "execution_count": 14,
   "id": "9b03917c",
   "metadata": {},
   "outputs": [],
   "source": [
    "#k_3 = [y_f(x[0] + h/2, y_2[0] + k_2[0]/2)*h]\n",
    "k_3 = []"
   ]
  },
  {
   "cell_type": "code",
   "execution_count": 15,
   "id": "aeb5554c",
   "metadata": {},
   "outputs": [],
   "source": [
    "#k_4 = [y_f(x[0] + h/2, y_2[0] + k_3[0])*h]\n",
    "k_4 = []"
   ]
  },
  {
   "cell_type": "code",
   "execution_count": 16,
   "id": "d868a2b2",
   "metadata": {},
   "outputs": [],
   "source": [
    "for i in range(n):\n",
    "    k_1.append(f(x[i], y_2[i])*h)\n",
    "    k_2.append(f(x[i] + h/2, y_2[i] + k_1[i]/2)*h)\n",
    "    k_3.append(f(x[i] + h/2, y_2[i] + k_2[i]/2)*h)\n",
    "    k_4.append(f(x[i] + h/2, y_2[i] + k_3[i])*h)\n",
    "    y_2.append(y_2[i] + (k_1[i] + 2*k_2[i] + 2*k_3[i] + k_4[i])/6)\n"
   ]
  },
  {
   "cell_type": "code",
   "execution_count": 17,
   "id": "99b2cc8d",
   "metadata": {},
   "outputs": [],
   "source": [
    "k_1 = [round(x, 3) for x in k_1]\n",
    "k_2 = [round(x, 3) for x in k_2]\n",
    "k_3 = [round(x, 3) for x in k_3]\n",
    "k_4 = [round(x, 3) for x in k_4]"
   ]
  },
  {
   "cell_type": "code",
   "execution_count": 18,
   "id": "f01a7983",
   "metadata": {},
   "outputs": [],
   "source": [
    "y_2 = [round(x, 3) for x in y_2]"
   ]
  },
  {
   "cell_type": "code",
   "execution_count": 19,
   "id": "cebee5fa",
   "metadata": {},
   "outputs": [
    {
     "name": "stdout",
     "output_type": "stream",
     "text": [
      "1.05 0.9 0.799 0.725 0.665 0.616 0.573 0.535 0.501 0.47 0.441\n"
     ]
    }
   ],
   "source": [
    "print(*list(y))"
   ]
  },
  {
   "cell_type": "code",
   "execution_count": 20,
   "id": "1bba7250",
   "metadata": {},
   "outputs": [
    {
     "name": "stdout",
     "output_type": "stream",
     "text": [
      "1.05 0.924 0.835 0.768 0.713 0.667 0.627 0.592 0.56 0.532 0.506\n"
     ]
    }
   ],
   "source": [
    "print(*list(y_2))"
   ]
  },
  {
   "cell_type": "code",
   "execution_count": 21,
   "id": "9aeb02f7",
   "metadata": {},
   "outputs": [
    {
     "name": "stdout",
     "output_type": "stream",
     "text": [
      "y0 = 1.05  k1_0 = -0.15  k2_0 = -0.121  k3_0 = -0.121  k4_0 = -0.121\n",
      "\n",
      "y1 = 0.924  k1_1 = -0.101  k2_1 = -0.086  k3_1 = -0.086  k4_1 = -0.086\n",
      "\n",
      "y2 = 0.835  k1_2 = -0.075  k2_2 = -0.066  k3_2 = -0.066  k4_2 = -0.066\n",
      "\n",
      "y3 = 0.768  k1_3 = -0.059  k2_3 = -0.054  k3_3 = -0.054  k4_3 = -0.054\n",
      "\n",
      "y4 = 0.713  k1_4 = -0.049  k2_4 = -0.045  k3_4 = -0.045  k4_4 = -0.046\n",
      "\n",
      "y5 = 0.667  k1_5 = -0.042  k2_5 = -0.039  k3_5 = -0.039  k4_5 = -0.04\n",
      "\n",
      "y6 = 0.627  k1_6 = -0.037  k2_6 = -0.035  k3_6 = -0.035  k4_6 = -0.035\n",
      "\n",
      "y7 = 0.592  k1_7 = -0.033  k2_7 = -0.031  k3_7 = -0.031  k4_7 = -0.031\n",
      "\n",
      "y8 = 0.56  k1_8 = -0.03  k2_8 = -0.028  k3_8 = -0.028  k4_8 = -0.029\n",
      "\n",
      "y9 = 0.532  k1_9 = -0.027  k2_9 = -0.026  k3_9 = -0.026  k4_9 = -0.026\n",
      "\n",
      "y10 = 0.506\n"
     ]
    }
   ],
   "source": [
    "for i in range(len(y_2)-1):\n",
    "    print(f\"y{i} = {y_2[i]}  k1_{i} = {k_1[i]}  k2_{i} = {k_2[i]}  k3_{i} = {k_3[i]}  k4_{i} = {k_4[i]}\\n\")\n",
    "print(f\"y10 = {y_2[-1]}\")"
   ]
  },
  {
   "cell_type": "code",
   "execution_count": 22,
   "id": "0cac0455",
   "metadata": {},
   "outputs": [
    {
     "data": {
      "image/png": "[encoded data removed]",
      "text/plain": [
       "<Figure size 432x288 with 1 Axes>"
      ]
     },
     "metadata": {
      "needs_background": "light"
     },
     "output_type": "display_data"
    }
   ],
   "source": [
    "ax.xaxis.set_major_locator(ticker.MultipleLocator(0.1))\n",
    "ax.yaxis.set_major_locator(ticker.MultipleLocator(0.05))\n",
    "plt.grid()\n",
    "plt.title('Метод Рунге-Кутта')\n",
    "plt.xlabel(\"X\")\n",
    "plt.ylabel(\"Y\")\n",
    "plt.plot(x, y_2, c=\"r\")\n",
    "plt.savefig(\"runge_kutta_method.jpg\")"
   ]
  },
  {
   "cell_type": "code",
   "execution_count": null,
   "id": "4afbc120",
   "metadata": {},
   "outputs": [],
   "source": []
  }
 ],
 "metadata": {
  "kernelspec": {
   "display_name": "Python 3",
   "language": "python",
   "name": "python3"
  },
  "language_info": {
   "codemirror_mode": {
    "name": "ipython",
    "version": 3
   },
   "file_extension": ".py",
   "mimetype": "text/x-python",
   "name": "python",
   "nbconvert_exporter": "python",
   "pygments_lexer": "ipython3",
   "version": "3.9.1"
  }
 },
 "nbformat": 4,
 "nbformat_minor": 5
}
