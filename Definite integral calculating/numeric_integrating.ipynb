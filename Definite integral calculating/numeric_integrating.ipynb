{
 "cells": [
  {
   "cell_type": "code",
   "execution_count": 2,
   "id": "276e6382",
   "metadata": {},
   "outputs": [],
   "source": [
    "import numpy as np\n",
    "from sympy import *\n",
    "import math"
   ]
  },
  {
   "cell_type": "code",
   "execution_count": 3,
   "id": "8fba7dc2",
   "metadata": {},
   "outputs": [],
   "source": [
    "epsilon = 10**(-5)"
   ]
  },
  {
   "cell_type": "code",
   "execution_count": 4,
   "id": "00bdc4de",
   "metadata": {},
   "outputs": [],
   "source": [
    "a = 1\n",
    "b = 1.3\n",
    "def f(x):\n",
    "    return np.cos(3*x + x**(-1))"
   ]
  },
  {
   "cell_type": "code",
   "execution_count": 5,
   "id": "deb5ad0c",
   "metadata": {},
   "outputs": [],
   "source": [
    "def deriv_n(f, n):\n",
    "    F_n_1 = f\n",
    "    for i in range(n):\n",
    "        F_n = sp.diff(F_n_1, x)\n",
    "        F_n_1 = F_n\n",
    "    return F_n"
   ]
  },
  {
   "cell_type": "markdown",
   "id": "5da2791c",
   "metadata": {},
   "source": [
    "# Метод трапецій"
   ]
  },
  {
   "cell_type": "code",
   "execution_count": 6,
   "id": "093e69ed",
   "metadata": {},
   "outputs": [
    {
     "data": {
      "text/plain": [
       "4.128179474070304"
      ]
     },
     "execution_count": 6,
     "metadata": {},
     "output_type": "execute_result"
    }
   ],
   "source": [
    "x = Symbol('x')\n",
    "f_ = cos(3*x + 1/x)\n",
    "f_2 = diff(diff(f_))\n",
    "f_2_a = f_2.subs(x, a)\n",
    "f_2_b = f_2.subs(x, b)\n",
    "\n",
    "maxF_2 = float(max(f_2_a, f_2_b))\n",
    "maxF_2"
   ]
  },
  {
   "cell_type": "code",
   "execution_count": 7,
   "id": "f0cd7468",
   "metadata": {},
   "outputs": [
    {
     "data": {
      "text/plain": [
       "-0.1136959867"
      ]
     },
     "execution_count": 7,
     "metadata": {},
     "output_type": "execute_result"
    }
   ],
   "source": [
    "h = round(np.sqrt((12*epsilon)/(maxF_2*abs(b-a))), 6)\n",
    "n = math.ceil((b-a)/h)\n",
    "X = np.linspace(a, b, n+1)\n",
    "integral1 = 0\n",
    "for i in range(1, n+1):\n",
    "    integral1 += f(X[i])\n",
    "integral1 += f(X[0])/2 + f(X[-1])/2\n",
    "integral1 *= h\n",
    "round(integral1, 10)"
   ]
  },
  {
   "cell_type": "code",
   "execution_count": 8,
   "id": "406003d3",
   "metadata": {},
   "outputs": [
    {
     "data": {
      "text/plain": [
       "31"
      ]
     },
     "execution_count": 8,
     "metadata": {},
     "output_type": "execute_result"
    }
   ],
   "source": [
    "R_f1 = (maxF_2/12)*abs(b-a)*h**2\n",
    "R_f1 <= epsilon\n",
    "n"
   ]
  },
  {
   "cell_type": "markdown",
   "id": "49bb2796",
   "metadata": {},
   "source": [
    "#### Інтеграл методом трапецій = -0.1136497876"
   ]
  },
  {
   "cell_type": "markdown",
   "id": "3f8143b8",
   "metadata": {},
   "source": [
    "# "
   ]
  },
  {
   "cell_type": "markdown",
   "id": "6bf5774f",
   "metadata": {},
   "source": [
    "# Метод Сімпсона (принцип Рунге)"
   ]
  },
  {
   "cell_type": "code",
   "execution_count": 9,
   "id": "90d5a814",
   "metadata": {},
   "outputs": [
    {
     "data": {
      "text/plain": [
       "array([1.  , 1.01, 1.02, 1.03, 1.04, 1.05, 1.06, 1.07, 1.08, 1.09, 1.1 ,\n",
       "       1.11, 1.12, 1.13, 1.14, 1.15, 1.16, 1.17, 1.18, 1.19, 1.2 , 1.21,\n",
       "       1.22, 1.23, 1.24, 1.25, 1.26, 1.27, 1.28, 1.29, 1.3 ])"
      ]
     },
     "execution_count": 9,
     "metadata": {},
     "output_type": "execute_result"
    }
   ],
   "source": [
    "h1 = 0.00967\n",
    "h2 = h1/2\n",
    "n1 = 31\n",
    "m1 = int(n/2)\n",
    "X_1 = np.linspace(a, b, n1)\n",
    "X_1"
   ]
  },
  {
   "cell_type": "code",
   "execution_count": 10,
   "id": "4603a7d6",
   "metadata": {},
   "outputs": [],
   "source": [
    "S1 = sum([f(X_1[i]) for i in range(1, len(X_1)) if i % 2 != 0])\n",
    "S2 = sum([f(X_1[i]) for i in range(2, len(X_1) - 1) if i % 2 == 0])"
   ]
  },
  {
   "cell_type": "code",
   "execution_count": 11,
   "id": "0da00f7b",
   "metadata": {},
   "outputs": [],
   "source": [
    "integral2 = (f(X_1[0]) + 4*S1 + 2*S2 + f(X_1[-1]))*(b-a)/(6*m1)"
   ]
  },
  {
   "cell_type": "code",
   "execution_count": 12,
   "id": "24d729ea",
   "metadata": {},
   "outputs": [
    {
     "data": {
      "text/plain": [
       "-0.1113614531"
      ]
     },
     "execution_count": 12,
     "metadata": {},
     "output_type": "execute_result"
    }
   ],
   "source": [
    "round(integral2, 10)"
   ]
  },
  {
   "cell_type": "markdown",
   "id": "f8c58df6",
   "metadata": {},
   "source": [
    "#### Інтеграл методом Сімпсона (принцип Рунге) = -0.1113614531 при n = 31, m = 15"
   ]
  },
  {
   "cell_type": "code",
   "execution_count": 13,
   "id": "c68f99be",
   "metadata": {},
   "outputs": [],
   "source": [
    "n2 = n1*2\n",
    "m2 = n1"
   ]
  },
  {
   "cell_type": "code",
   "execution_count": 14,
   "id": "12fd01f7",
   "metadata": {},
   "outputs": [],
   "source": [
    "X_2 = np.linspace(a, b, n2+1)"
   ]
  },
  {
   "cell_type": "code",
   "execution_count": 15,
   "id": "e432c320",
   "metadata": {},
   "outputs": [
    {
     "data": {
      "text/plain": [
       "array([1.        , 1.00483871, 1.00967742, 1.01451613, 1.01935484,\n",
       "       1.02419355, 1.02903226, 1.03387097, 1.03870968, 1.04354839,\n",
       "       1.0483871 , 1.05322581, 1.05806452, 1.06290323, 1.06774194,\n",
       "       1.07258065, 1.07741935, 1.08225806, 1.08709677, 1.09193548,\n",
       "       1.09677419, 1.1016129 , 1.10645161, 1.11129032, 1.11612903,\n",
       "       1.12096774, 1.12580645, 1.13064516, 1.13548387, 1.14032258,\n",
       "       1.14516129, 1.15      , 1.15483871, 1.15967742, 1.16451613,\n",
       "       1.16935484, 1.17419355, 1.17903226, 1.18387097, 1.18870968,\n",
       "       1.19354839, 1.1983871 , 1.20322581, 1.20806452, 1.21290323,\n",
       "       1.21774194, 1.22258065, 1.22741935, 1.23225806, 1.23709677,\n",
       "       1.24193548, 1.24677419, 1.2516129 , 1.25645161, 1.26129032,\n",
       "       1.26612903, 1.27096774, 1.27580645, 1.28064516, 1.28548387,\n",
       "       1.29032258, 1.29516129, 1.3       ])"
      ]
     },
     "execution_count": 15,
     "metadata": {},
     "output_type": "execute_result"
    }
   ],
   "source": [
    "X_2"
   ]
  },
  {
   "cell_type": "code",
   "execution_count": 16,
   "id": "e6a2a01f",
   "metadata": {},
   "outputs": [],
   "source": [
    "S1_2 = sum([f(X_2[i]) for i in range(1, len(X_2)) if i % 2 != 0])\n",
    "S2_2 = sum([f(X_2[i]) for i in range(2, len(X_2) - 1) if i % 2 == 0])"
   ]
  },
  {
   "cell_type": "code",
   "execution_count": 17,
   "id": "47d6969f",
   "metadata": {
    "scrolled": true
   },
   "outputs": [
    {
     "data": {
      "text/plain": [
       "-0.1113614524"
      ]
     },
     "execution_count": 17,
     "metadata": {},
     "output_type": "execute_result"
    }
   ],
   "source": [
    "integral2_2 = (f(X_2[0]) + 4*S1_2 + 2*S2_2 + f(X_2[-1]))*(b-a)/(6*m2)\n",
    "round(integral2_2, 10)"
   ]
  },
  {
   "cell_type": "markdown",
   "id": "69f945f8",
   "metadata": {},
   "source": [
    "#### Інтеграл методом Сімпсона (принцип Рунге) = -0.1113614524 при n = 62, m = 31"
   ]
  },
  {
   "cell_type": "code",
   "execution_count": 18,
   "id": "f7101469",
   "metadata": {},
   "outputs": [
    {
     "name": "stdout",
     "output_type": "stream",
     "text": [
      "True\n"
     ]
    }
   ],
   "source": [
    "if (abs(integral2 - integral2_2))/(2**4 - 1) <= epsilon:\n",
    "    print(True)\n",
    "else: print(False)"
   ]
  },
  {
   "cell_type": "code",
   "execution_count": 19,
   "id": "be391ff6",
   "metadata": {},
   "outputs": [
    {
     "name": "stdout",
     "output_type": "stream",
     "text": [
      "0.00967\n",
      "-5.568816440928161 -5.218190860767133\n",
      "-0.1113614530684682\n",
      "\n",
      "\n",
      "0.004835\n",
      "-11.50770994343424 -11.158236134768478\n",
      "-0.11136145238478623\n"
     ]
    }
   ],
   "source": [
    "print(h1)\n",
    "print(S1, S2)\n",
    "print(integral2)\n",
    "print('\\n')\n",
    "print(h2)\n",
    "print(S1_2, S2_2)\n",
    "print(integral2_2)"
   ]
  },
  {
   "cell_type": "code",
   "execution_count": 20,
   "id": "af5d3361",
   "metadata": {},
   "outputs": [
    {
     "name": "stdout",
     "output_type": "stream",
     "text": [
      "4.5578798143116234e-11\n"
     ]
    }
   ],
   "source": [
    "print(abs(integral2 - integral2_2)/(2**4 - 1))"
   ]
  },
  {
   "cell_type": "markdown",
   "id": "259d11f7",
   "metadata": {},
   "source": [
    "# "
   ]
  },
  {
   "cell_type": "markdown",
   "id": "50a94fae",
   "metadata": {},
   "source": [
    "# Інтеграл за допомогою формули Гаусса"
   ]
  },
  {
   "cell_type": "code",
   "execution_count": 21,
   "id": "ade9de6d",
   "metadata": {},
   "outputs": [],
   "source": [
    "def f(x):\n",
    "    return np.cos(3*x + x**(-1))\n"
   ]
  },
  {
   "cell_type": "code",
   "execution_count": 22,
   "id": "d8473d19",
   "metadata": {},
   "outputs": [],
   "source": [
    "def x(t):\n",
    "    return 1.15 + 0.15*t\n"
   ]
  },
  {
   "cell_type": "code",
   "execution_count": 23,
   "id": "b22f7424",
   "metadata": {},
   "outputs": [],
   "source": [
    "def g(t):\n",
    "    try:\n",
    "        x = np.cos(0.45*t + 6.67/t + 4.319565)\n",
    "    except ZeroDivisionError:\n",
    "        return 0\n",
    "    return np.cos(0.45*t + 6.67/t + 4.319565)"
   ]
  },
  {
   "cell_type": "code",
   "execution_count": 24,
   "id": "72292249",
   "metadata": {},
   "outputs": [],
   "source": [
    "t_ = Symbol('t')\n",
    "f_t = cos(0.45*t_ + 6.67/t_ + 4.319565)\n",
    "f_t1 = cos(2*t_)"
   ]
  },
  {
   "cell_type": "code",
   "execution_count": 25,
   "id": "890aae4b",
   "metadata": {},
   "outputs": [],
   "source": [
    "def deriv_n(func, n):\n",
    "    deriv = simplify(func)\n",
    "    next_deriv = None\n",
    "    for i in range(n):\n",
    "        next_deriv = diff(deriv, t_)\n",
    "        deriv = next_deriv\n",
    "    return deriv"
   ]
  },
  {
   "cell_type": "code",
   "execution_count": 26,
   "id": "a91250a0",
   "metadata": {},
   "outputs": [],
   "source": [
    "def max_func(func, n):\n",
    "    try:\n",
    "        return maximum(deriv_n(func, 2*n), t_)\n",
    "    except Exception as e:\n",
    "        print(e)\n",
    "    "
   ]
  },
  {
   "cell_type": "code",
   "execution_count": 27,
   "id": "3f6fbb62",
   "metadata": {},
   "outputs": [],
   "source": [
    "\n",
    "f_14 = diff(f_t, t_, 14)\n",
    "maxim = f_14.subs(t_, -1)\n"
   ]
  },
  {
   "cell_type": "code",
   "execution_count": 28,
   "id": "57f280a3",
   "metadata": {},
   "outputs": [],
   "source": [
    "n = 7\n",
    "\n",
    "def R(n):\n",
    "    d_n = diff(f_t, t_, 2*n)\n",
    "    maxim = max(d_n.subs(t_, -1), d_n.subs(t_, 1))\n",
    "    return abs((maxim * (2**(2*n + 1) * (math.factorial(n))**4))/((2*n + 1)*(math.factorial(2*n))**3))"
   ]
  },
  {
   "cell_type": "code",
   "execution_count": 28,
   "id": "5250e67d",
   "metadata": {},
   "outputs": [
    {
     "name": "stdout",
     "output_type": "stream",
     "text": [
      "25\n"
     ]
    }
   ],
   "source": [
    "for i in range(25, 27):\n",
    "    r = R(i)\n",
    "    if r <= epsilon:\n",
    "        print(i)\n",
    "        break"
   ]
  },
  {
   "cell_type": "code",
   "execution_count": 29,
   "id": "48e2da87",
   "metadata": {
    "scrolled": true
   },
   "outputs": [
    {
     "data": {
      "text/latex": [
       "$\\displaystyle 8.08594136911207 \\cdot 10^{-6}$"
      ],
      "text/plain": [
       "8.08594136911207e-6"
      ]
     },
     "execution_count": 29,
     "metadata": {},
     "output_type": "execute_result"
    }
   ],
   "source": [
    "R(25)"
   ]
  },
  {
   "cell_type": "code",
   "execution_count": 40,
   "id": "19df04cd",
   "metadata": {},
   "outputs": [
    {
     "data": {
      "text/latex": [
       "$\\displaystyle 1.76802235087454 \\cdot 10^{15}$"
      ],
      "text/plain": [
       "1.76802235087454e+15"
      ]
     },
     "execution_count": 40,
     "metadata": {},
     "output_type": "execute_result"
    }
   ],
   "source": [
    "d_n = diff(f_t, t_, 2*n)\n",
    "maxim = max(d_n.subs(t_, -1), d_n.subs(t_, 1))\n",
    "maxim"
   ]
  },
  {
   "cell_type": "code",
   "execution_count": 31,
   "id": "5cbc10f7",
   "metadata": {},
   "outputs": [],
   "source": [
    "def lpn(n):\n",
    "    exp = None\n",
    "    if(n == 0): \n",
    "        return 1\n",
    "    elif(n == 1): \n",
    "        exp = t_\n",
    "        return exp\n",
    "    else: \n",
    "        exp = (((2*n - 1) * t_ * lpn(n - 1) - (n - 1) * lpn(n - 2)) / n).expand()\n",
    "        return exp"
   ]
  },
  {
   "cell_type": "code",
   "execution_count": 32,
   "id": "19458655",
   "metadata": {
    "scrolled": true
   },
   "outputs": [
    {
     "data": {
      "text/latex": [
       "$\\displaystyle \\frac{t \\left(15801325804719 t^{24} - 96742811049300 t^{22} + 260382246760350 t^{20} - 405039050516100 t^{18} + 402684172315425 t^{16} - 267146572853160 t^{14} + 119873462177700 t^{12} - 36100888223400 t^{10} + 7091245901025 t^{8} - 859544957700 t^{6} + 58227239070 t^{4} - 1825305300 t^{2} + 16900975\\right)}{4194304}$"
      ],
      "text/plain": [
       "t*(15801325804719*t**24 - 96742811049300*t**22 + 260382246760350*t**20 - 405039050516100*t**18 + 402684172315425*t**16 - 267146572853160*t**14 + 119873462177700*t**12 - 36100888223400*t**10 + 7091245901025*t**8 - 859544957700*t**6 + 58227239070*t**4 - 1825305300*t**2 + 16900975)/4194304"
      ]
     },
     "execution_count": 32,
     "metadata": {},
     "output_type": "execute_result"
    }
   ],
   "source": [
    "legendra_25 = lpn(25)\n",
    "legendra_25.simplify()"
   ]
  },
  {
   "cell_type": "code",
   "execution_count": 33,
   "id": "a0dd436b",
   "metadata": {},
   "outputs": [
    {
     "data": {
      "text/latex": [
       "$\\displaystyle \\frac{395033145117975 t^{24}}{4194304} - \\frac{556271163533475 t^{22}}{1048576} + \\frac{2734013590983675 t^{20}}{2097152} - \\frac{1923935489951475 t^{18}}{1048576} + \\frac{6845630929362225 t^{16}}{4194304} - \\frac{500899824099675 t^{14}}{524288} + \\frac{389588752077525 t^{12}}{1048576} - \\frac{49638721307175 t^{10}}{524288} + \\frac{63821213109225 t^{8}}{4194304} - \\frac{1504203675975 t^{6}}{1048576} + \\frac{145568097675 t^{4}}{2097152} - \\frac{1368978975 t^{2}}{1048576} + \\frac{16900975}{4194304}$"
      ],
      "text/plain": [
       "395033145117975*t**24/4194304 - 556271163533475*t**22/1048576 + 2734013590983675*t**20/2097152 - 1923935489951475*t**18/1048576 + 6845630929362225*t**16/4194304 - 500899824099675*t**14/524288 + 389588752077525*t**12/1048576 - 49638721307175*t**10/524288 + 63821213109225*t**8/4194304 - 1504203675975*t**6/1048576 + 145568097675*t**4/2097152 - 1368978975*t**2/1048576 + 16900975/4194304"
      ]
     },
     "execution_count": 33,
     "metadata": {},
     "output_type": "execute_result"
    }
   ],
   "source": [
    "deriv_leg25 = diff(legendra_25, t_)\n",
    "deriv_leg25"
   ]
  },
  {
   "cell_type": "code",
   "execution_count": 41,
   "id": "a9729690",
   "metadata": {},
   "outputs": [],
   "source": [
    "solves = solve(legendra_25, t_)\n",
    "t_25 = [round(float(x), 6) for x in solves]"
   ]
  },
  {
   "cell_type": "code",
   "execution_count": 42,
   "id": "f77a6a26",
   "metadata": {
    "scrolled": true
   },
   "outputs": [
    {
     "data": {
      "text/plain": [
       "[0.0,\n",
       " -0.995557,\n",
       " -0.976664,\n",
       " -0.942975,\n",
       " -0.894992,\n",
       " -0.833443,\n",
       " -0.759259,\n",
       " -0.673566,\n",
       " -0.577663,\n",
       " -0.473003,\n",
       " -0.361172,\n",
       " -0.243867,\n",
       " -0.122865,\n",
       " 0.122865,\n",
       " 0.243867,\n",
       " 0.361172,\n",
       " 0.473003,\n",
       " 0.577663,\n",
       " 0.673566,\n",
       " 0.759259,\n",
       " 0.833443,\n",
       " 0.894992,\n",
       " 0.942975,\n",
       " 0.976664,\n",
       " 0.995557]"
      ]
     },
     "execution_count": 42,
     "metadata": {},
     "output_type": "execute_result"
    }
   ],
   "source": [
    "t_25"
   ]
  },
  {
   "cell_type": "code",
   "execution_count": 36,
   "id": "d5076e08",
   "metadata": {},
   "outputs": [],
   "source": [
    "c_25 = [ 2/((1-x**2)*(deriv_leg25.subs(t_, x)**2)) for x in t_25]"
   ]
  },
  {
   "cell_type": "code",
   "execution_count": 43,
   "id": "e3b9aa65",
   "metadata": {},
   "outputs": [],
   "source": [
    "c_25 = [round(x, 6) for x in c_25]"
   ]
  },
  {
   "cell_type": "code",
   "execution_count": 44,
   "id": "b254d0e7",
   "metadata": {},
   "outputs": [
    {
     "data": {
      "text/plain": [
       "[0.123176,\n",
       " 0.011394,\n",
       " 0.026355,\n",
       " 0.040939,\n",
       " 0.054905,\n",
       " 0.068038,\n",
       " 0.080141,\n",
       " 0.091028,\n",
       " 0.100536,\n",
       " 0.108520,\n",
       " 0.114858,\n",
       " 0.119456,\n",
       " 0.122242,\n",
       " 0.122242,\n",
       " 0.119456,\n",
       " 0.114858,\n",
       " 0.108520,\n",
       " 0.100536,\n",
       " 0.091028,\n",
       " 0.080141,\n",
       " 0.068038,\n",
       " 0.054905,\n",
       " 0.040939,\n",
       " 0.026355,\n",
       " 0.011394]"
      ]
     },
     "execution_count": 44,
     "metadata": {},
     "output_type": "execute_result"
    }
   ],
   "source": [
    "c_25"
   ]
  },
  {
   "cell_type": "code",
   "execution_count": 45,
   "id": "1df70f48",
   "metadata": {},
   "outputs": [
    {
     "data": {
      "text/latex": [
       "$\\displaystyle -0.111361436152458$"
      ],
      "text/plain": [
       "-0.111361436152458"
      ]
     },
     "execution_count": 45,
     "metadata": {},
     "output_type": "execute_result"
    }
   ],
   "source": [
    "integral3 = 0\n",
    "for i in range(25):\n",
    "    integral3 += c_25[i]*f(x(t_25[i]))\n",
    "integral3 *= 0.15\n",
    "integral3"
   ]
  },
  {
   "cell_type": "code",
   "execution_count": null,
   "id": "a9e47b25",
   "metadata": {},
   "outputs": [],
   "source": []
  }
 ],
 "metadata": {
  "kernelspec": {
   "display_name": "Python 3",
   "language": "python",
   "name": "python3"
  },
  "language_info": {
   "codemirror_mode": {
    "name": "ipython",
    "version": 3
   },
   "file_extension": ".py",
   "mimetype": "text/x-python",
   "name": "python",
   "nbconvert_exporter": "python",
   "pygments_lexer": "ipython3",
   "version": "3.9.1"
  }
 },
 "nbformat": 4,
 "nbformat_minor": 5
}
