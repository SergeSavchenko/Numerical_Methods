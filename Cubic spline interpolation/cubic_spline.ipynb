{
 "cells": [
  {
   "cell_type": "code",
   "execution_count": 1,
   "id": "b3018289",
   "metadata": {},
   "outputs": [],
   "source": [
    "import numpy as np\n",
    "from math import sqrt\n",
    "import matplotlib.pyplot as plt\n",
    "import matplotlib.ticker as ticker\n",
    "from sympy import *"
   ]
  },
  {
   "cell_type": "code",
   "execution_count": 2,
   "id": "2cef2ec7",
   "metadata": {},
   "outputs": [],
   "source": [
    "x_ = np.linspace(0, 6, 11)\n",
    "f = np.array([np.log10(i**2 + 1) for i in x_])\n",
    "#n = len(x)\n",
    "n = 11"
   ]
  },
  {
   "cell_type": "code",
   "execution_count": 3,
   "id": "a7c7f1a8",
   "metadata": {},
   "outputs": [
    {
     "data": {
      "text/plain": [
       "array([0. , 0.6, 1.2, 1.8, 2.4, 3. , 3.6, 4.2, 4.8, 5.4, 6. ])"
      ]
     },
     "execution_count": 3,
     "metadata": {},
     "output_type": "execute_result"
    }
   ],
   "source": [
    "x_"
   ]
  },
  {
   "cell_type": "code",
   "execution_count": 4,
   "id": "88ca38f2",
   "metadata": {},
   "outputs": [
    {
     "data": {
      "text/plain": [
       "array([0.        , 0.13353891, 0.38738983, 0.62736586, 0.8299467 ,\n",
       "       1.        , 1.14488542, 1.27044591, 1.38093446, 1.47943134,\n",
       "       1.56820172])"
      ]
     },
     "execution_count": 4,
     "metadata": {},
     "output_type": "execute_result"
    }
   ],
   "source": [
    "f"
   ]
  },
  {
   "cell_type": "code",
   "execution_count": 5,
   "id": "abd9ea85",
   "metadata": {},
   "outputs": [
    {
     "data": {
      "text/plain": [
       "0.6"
      ]
     },
     "execution_count": 5,
     "metadata": {},
     "output_type": "execute_result"
    }
   ],
   "source": [
    "h = np.diff(x_)\n",
    "h_ = h[0]\n",
    "h_"
   ]
  },
  {
   "cell_type": "code",
   "execution_count": 6,
   "id": "e26c773d",
   "metadata": {},
   "outputs": [
    {
     "data": {
      "text/plain": [
       "array([0.6, 0.6, 0.6, 0.6, 0.6, 0.6, 0.6, 0.6, 0.6, 0.6])"
      ]
     },
     "execution_count": 6,
     "metadata": {},
     "output_type": "execute_result"
    }
   ],
   "source": [
    "h\n"
   ]
  },
  {
   "cell_type": "code",
   "execution_count": 7,
   "id": "99963247",
   "metadata": {},
   "outputs": [],
   "source": [
    "a = h/6"
   ]
  },
  {
   "cell_type": "code",
   "execution_count": 8,
   "id": "23bc3537",
   "metadata": {},
   "outputs": [
    {
     "data": {
      "text/plain": [
       "array([0.1, 0.1, 0.1, 0.1, 0.1, 0.1, 0.1, 0.1, 0.1, 0.1])"
      ]
     },
     "execution_count": 8,
     "metadata": {},
     "output_type": "execute_result"
    }
   ],
   "source": [
    "a"
   ]
  },
  {
   "cell_type": "code",
   "execution_count": 9,
   "id": "2f173a3a",
   "metadata": {},
   "outputs": [],
   "source": [
    "b = np.zeros(10)\n",
    "for i in range(1, n-2):\n",
    "    b[i] = -2*h[i]/3"
   ]
  },
  {
   "cell_type": "code",
   "execution_count": 10,
   "id": "c3ecbb7c",
   "metadata": {},
   "outputs": [
    {
     "data": {
      "text/plain": [
       "array([ 0. , -0.4, -0.4, -0.4, -0.4, -0.4, -0.4, -0.4, -0.4,  0. ])"
      ]
     },
     "execution_count": 10,
     "metadata": {},
     "output_type": "execute_result"
    }
   ],
   "source": [
    "b"
   ]
  },
  {
   "cell_type": "code",
   "execution_count": 11,
   "id": "0369a75d",
   "metadata": {},
   "outputs": [],
   "source": [
    "c = np.append(np.array([h[i+1]/6 for i in range(len(h)-1)]), 0.)"
   ]
  },
  {
   "cell_type": "code",
   "execution_count": 12,
   "id": "20adaf87",
   "metadata": {},
   "outputs": [
    {
     "data": {
      "text/plain": [
       "array([0.1, 0.1, 0.1, 0.1, 0.1, 0.1, 0.1, 0.1, 0.1, 0. ])"
      ]
     },
     "execution_count": 12,
     "metadata": {},
     "output_type": "execute_result"
    }
   ],
   "source": [
    "c"
   ]
  },
  {
   "cell_type": "code",
   "execution_count": 13,
   "id": "9f1bc1d2",
   "metadata": {},
   "outputs": [],
   "source": [
    "d = np.zeros(10)\n",
    "for i in range(1, n-2):\n",
    "    d[i] = (f[i-1]/h[i]) - f[i]*(1/h[i] + 1/h[i+1]) + (f[i+1]/h[i+1])\n",
    "#d = np.array([(f[i-1]/h[i]) - f[i]*(1/h[i] + 1/h[i+1]) + (f[i+1]/h[i+1]) for i in range(1, n-1)])"
   ]
  },
  {
   "cell_type": "code",
   "execution_count": 14,
   "id": "3109fa44",
   "metadata": {},
   "outputs": [
    {
     "data": {
      "text/plain": [
       "array([ 0.        ,  0.20052002, -0.02312481, -0.06232532, -0.05421256,\n",
       "       -0.04194648, -0.03220821, -0.02511989, -0.01998614,  0.        ])"
      ]
     },
     "execution_count": 14,
     "metadata": {},
     "output_type": "execute_result"
    }
   ],
   "source": [
    "d"
   ]
  },
  {
   "cell_type": "code",
   "execution_count": 15,
   "id": "f6a80be2",
   "metadata": {},
   "outputs": [
    {
     "name": "stdout",
     "output_type": "stream",
     "text": [
      "N=11\tlen(h)=10\tlen(a)=10\tlen(b)=10\tlen(c)=10\tlen(d)=10\n"
     ]
    }
   ],
   "source": [
    "print(f\"N={n}\\tlen(h)={len(h)}\\tlen(a)={len(a)}\\tlen(b)={len(b)}\\tlen(c)={len(c)}\\tlen(d)={len(d)}\")"
   ]
  },
  {
   "cell_type": "markdown",
   "id": "f8fa722e",
   "metadata": {},
   "source": [
    "# Прямий хід"
   ]
  },
  {
   "cell_type": "code",
   "execution_count": 16,
   "id": "cc973124",
   "metadata": {},
   "outputs": [],
   "source": [
    "alpha = np.zeros(9)\n",
    "alpha[0] = 0\n",
    "gamma = np.zeros(9)\n",
    "gamma[0] = 0"
   ]
  },
  {
   "cell_type": "code",
   "execution_count": 17,
   "id": "60df9a5d",
   "metadata": {},
   "outputs": [],
   "source": [
    "for i in range(1, n-2):\n",
    "    alpha[i] = c[i]/(b[i] - a[i]*alpha[i-1])\n",
    "    gamma[i] = (a[i]*gamma[i-1] - d[i])/(b[i] - a[i]*alpha[i-1])"
   ]
  },
  {
   "cell_type": "code",
   "execution_count": 18,
   "id": "0f304663",
   "metadata": {},
   "outputs": [
    {
     "data": {
      "text/plain": [
       "array([ 0.        , -0.25      , -0.26666667, -0.26785714, -0.26794258,\n",
       "       -0.26794872, -0.26794916, -0.26794919, -0.26794919])"
      ]
     },
     "execution_count": 18,
     "metadata": {},
     "output_type": "execute_result"
    }
   ],
   "source": [
    "alpha"
   ]
  },
  {
   "cell_type": "code",
   "execution_count": 19,
   "id": "19c4b8f0",
   "metadata": {},
   "outputs": [
    {
     "data": {
      "text/plain": [
       "array([ 0.        ,  0.50130004, -0.19534618, -0.11461795, -0.1145475 ,\n",
       "       -0.08170219, -0.06440961, -0.05005004, -0.04014182])"
      ]
     },
     "execution_count": 19,
     "metadata": {},
     "output_type": "execute_result"
    }
   ],
   "source": [
    "gamma"
   ]
  },
  {
   "cell_type": "markdown",
   "id": "e920b797",
   "metadata": {},
   "source": [
    "# Обернений хід"
   ]
  },
  {
   "cell_type": "code",
   "execution_count": 20,
   "id": "a696033c",
   "metadata": {},
   "outputs": [],
   "source": [
    "m = np.zeros(n)\n",
    "m[n-1] = 0\n",
    "m[n-2] = (a[n-2]*gamma[n-3] - d[n-2])/(b[n-2]-a[n-2]*alpha[n - 3])"
   ]
  },
  {
   "cell_type": "code",
   "execution_count": 21,
   "id": "66b6c14e",
   "metadata": {},
   "outputs": [],
   "source": [
    "for i in range(n-3, -1, -1):\n",
    "    m[i] = alpha[i]*m[i+1] + gamma[i]"
   ]
  },
  {
   "cell_type": "code",
   "execution_count": 22,
   "id": "a7041673",
   "metadata": {
    "scrolled": false
   },
   "outputs": [
    {
     "data": {
      "text/plain": [
       "array([ 0.        ,  0.54421534, -0.17166121, -0.08881863, -0.09631745,\n",
       "       -0.06803714, -0.05099874, -0.05005004,  0.        , -0.14981132,\n",
       "        0.        ])"
      ]
     },
     "execution_count": 22,
     "metadata": {},
     "output_type": "execute_result"
    }
   ],
   "source": [
    "m"
   ]
  },
  {
   "cell_type": "code",
   "execution_count": 23,
   "id": "0df568b0",
   "metadata": {},
   "outputs": [
    {
     "data": {
      "text/plain": [
       "0.5442153426121373"
      ]
     },
     "execution_count": 23,
     "metadata": {},
     "output_type": "execute_result"
    }
   ],
   "source": [
    "len(m)\n",
    "m[1]"
   ]
  },
  {
   "cell_type": "markdown",
   "id": "265db79c",
   "metadata": {},
   "source": [
    "# Побудова сплайну"
   ]
  },
  {
   "cell_type": "code",
   "execution_count": 24,
   "id": "3e7360a4",
   "metadata": {},
   "outputs": [],
   "source": [
    "x = symbols(\"x\")\n"
   ]
  },
  {
   "cell_type": "code",
   "execution_count": 25,
   "id": "cf76e868",
   "metadata": {},
   "outputs": [],
   "source": [
    "functions = []"
   ]
  },
  {
   "cell_type": "code",
   "execution_count": 26,
   "id": "f2655fe0",
   "metadata": {},
   "outputs": [],
   "source": [
    "for i in range(1, len(m)):\n",
    "    first = round(m[i-1]/(6*h_), 7)\n",
    "    second = round(m[i]/(6*h_), 7)\n",
    "    third = round((f[i] - (m[i] * (h_**2))/6)/h_, 7)\n",
    "    fourth = round((f[i-1] - (m[i-1] * (h_**2))/6)/h_, 7)\n",
    "    main_expression = (first*(x_[i]-x)**3 + second*(x-x_[i-1])**3 + third*(x-x_[i-1]) + fourth*(x_[i] - x)).expand()\n",
    "    functions.append(main_expression)"
   ]
  },
  {
   "cell_type": "code",
   "execution_count": 27,
   "id": "1cdf66ae",
   "metadata": {},
   "outputs": [
    {
     "data": {
      "text/latex": [
       "$\\displaystyle 0.151170928503371 x^{3} - 2.44896904175462 x^{2} + 13.3925761384974 x - 23.8039790858549$"
      ],
      "text/plain": [
       "0.151170928503371*x**3 - 2.44896904175462*x**2 + 13.3925761384974*x - 23.8039790858549"
      ]
     },
     "execution_count": 27,
     "metadata": {},
     "output_type": "execute_result"
    }
   ],
   "source": [
    "((m[1]/(6*h_))*(x-x_[i-1])**3).expand() + (((f[1] - (m[1] * (h_**2))/6)/h_)*(x-x_[0])).expand()"
   ]
  },
  {
   "cell_type": "code",
   "execution_count": 28,
   "id": "31717f8f",
   "metadata": {
    "scrolled": true
   },
   "outputs": [
    {
     "name": "stdout",
     "output_type": "stream",
     "text": [
      "g_1(x) = 0.1511709*x**3 + 0.1681433*x.\n",
      "g_2(x) = -0.1988546*x**3 + 0.6300459*x**2 - 0.209884184*x + 0.0756054744.\n",
      "g_3(x) = 0.0230119*x**3 - 0.1686735*x**2 + 0.748579188*x - 0.307779948.\n",
      "g_4(x) = -0.00208299999999999*x**3 - 0.03316104*x**2 + 0.504656648*x - 0.1614262896.\n",
      "g_5(x) = 0.00785559999999999*x**3 - 0.10471896*x**2 + 0.676395624*x - 0.2988174192.\n",
      "g_6(x) = 0.0047329*x**3 - 0.07661466*x**2 + 0.592082596*x - 0.2145041352.\n",
      "g_7(x) = 0.000263500000000002*x**3 - 0.02834514*x**2 + 0.418312432*x - 0.00598019759999824.\n",
      "g_8(x) = 0.0139028*x**3 - 0.20020032*x**2 + 1.140104036*x - 1.0164880176.\n",
      "g_9(x) = -0.0416143*x**3 + 0.59924592*x**2 - 2.697237816*x + 5.1232586256.\n",
      "g_10(x) = 0.0416143*x**3 - 0.7490574*x**2 + 4.6273139*x - 8.2183041.\n"
     ]
    }
   ],
   "source": [
    "for i in range(0, len(functions)):\n",
    "    print(f\"g_{i+1}(x) = {functions[i]}.\")"
   ]
  },
  {
   "cell_type": "code",
   "execution_count": 29,
   "id": "b0da3959",
   "metadata": {},
   "outputs": [
    {
     "data": {
      "text/plain": [
       "[array([0.        , 0.03157895, 0.06315789, 0.09473684, 0.12631579,\n",
       "        0.15789474, 0.18947368, 0.22105263, 0.25263158, 0.28421053,\n",
       "        0.31578947, 0.34736842, 0.37894737, 0.41052632, 0.44210526,\n",
       "        0.47368421, 0.50526316, 0.53684211, 0.56842105, 0.6       ]),\n",
       " array([0.6       , 0.63157895, 0.66315789, 0.69473684, 0.72631579,\n",
       "        0.75789474, 0.78947368, 0.82105263, 0.85263158, 0.88421053,\n",
       "        0.91578947, 0.94736842, 0.97894737, 1.01052632, 1.04210526,\n",
       "        1.07368421, 1.10526316, 1.13684211, 1.16842105, 1.2       ]),\n",
       " array([1.2       , 1.23157895, 1.26315789, 1.29473684, 1.32631579,\n",
       "        1.35789474, 1.38947368, 1.42105263, 1.45263158, 1.48421053,\n",
       "        1.51578947, 1.54736842, 1.57894737, 1.61052632, 1.64210526,\n",
       "        1.67368421, 1.70526316, 1.73684211, 1.76842105, 1.8       ]),\n",
       " array([1.8       , 1.83157895, 1.86315789, 1.89473684, 1.92631579,\n",
       "        1.95789474, 1.98947368, 2.02105263, 2.05263158, 2.08421053,\n",
       "        2.11578947, 2.14736842, 2.17894737, 2.21052632, 2.24210526,\n",
       "        2.27368421, 2.30526316, 2.33684211, 2.36842105, 2.4       ]),\n",
       " array([2.4       , 2.43157895, 2.46315789, 2.49473684, 2.52631579,\n",
       "        2.55789474, 2.58947368, 2.62105263, 2.65263158, 2.68421053,\n",
       "        2.71578947, 2.74736842, 2.77894737, 2.81052632, 2.84210526,\n",
       "        2.87368421, 2.90526316, 2.93684211, 2.96842105, 3.        ]),\n",
       " array([3.        , 3.03157895, 3.06315789, 3.09473684, 3.12631579,\n",
       "        3.15789474, 3.18947368, 3.22105263, 3.25263158, 3.28421053,\n",
       "        3.31578947, 3.34736842, 3.37894737, 3.41052632, 3.44210526,\n",
       "        3.47368421, 3.50526316, 3.53684211, 3.56842105, 3.6       ]),\n",
       " array([3.6       , 3.63157895, 3.66315789, 3.69473684, 3.72631579,\n",
       "        3.75789474, 3.78947368, 3.82105263, 3.85263158, 3.88421053,\n",
       "        3.91578947, 3.94736842, 3.97894737, 4.01052632, 4.04210526,\n",
       "        4.07368421, 4.10526316, 4.13684211, 4.16842105, 4.2       ]),\n",
       " array([4.2       , 4.23157895, 4.26315789, 4.29473684, 4.32631579,\n",
       "        4.35789474, 4.38947368, 4.42105263, 4.45263158, 4.48421053,\n",
       "        4.51578947, 4.54736842, 4.57894737, 4.61052632, 4.64210526,\n",
       "        4.67368421, 4.70526316, 4.73684211, 4.76842105, 4.8       ]),\n",
       " array([4.8       , 4.83157895, 4.86315789, 4.89473684, 4.92631579,\n",
       "        4.95789474, 4.98947368, 5.02105263, 5.05263158, 5.08421053,\n",
       "        5.11578947, 5.14736842, 5.17894737, 5.21052632, 5.24210526,\n",
       "        5.27368421, 5.30526316, 5.33684211, 5.36842105, 5.4       ]),\n",
       " array([5.4       , 5.43157895, 5.46315789, 5.49473684, 5.52631579,\n",
       "        5.55789474, 5.58947368, 5.62105263, 5.65263158, 5.68421053,\n",
       "        5.71578947, 5.74736842, 5.77894737, 5.81052632, 5.84210526,\n",
       "        5.87368421, 5.90526316, 5.93684211, 5.96842105, 6.        ])]"
      ]
     },
     "execution_count": 29,
     "metadata": {},
     "output_type": "execute_result"
    }
   ],
   "source": [
    "x_values = []\n",
    "for i in range(n-1):\n",
    "    x_values.append(np.linspace(x_[i], x_[i+1], 20))\n",
    "x_values"
   ]
  },
  {
   "cell_type": "code",
   "execution_count": 30,
   "id": "14bf8bd3",
   "metadata": {},
   "outputs": [
    {
     "data": {
      "text/plain": [
       "[array([0.        , 0.00531455, 0.01065766, 0.0160579 , 0.02154383,\n",
       "        0.02714402, 0.03288702, 0.0388014 , 0.04491573, 0.05125857,\n",
       "        0.05785848, 0.06474402, 0.07194377, 0.07948627, 0.08740011,\n",
       "        0.09571383, 0.10445601, 0.1136552 , 0.12333998, 0.13353889]),\n",
       " array([0.13353889, 0.1442695 , 0.15550524, 0.16720854, 0.17934183,\n",
       "        0.19186753, 0.20474807, 0.21794589, 0.23142339, 0.24514302,\n",
       "        0.25906719, 0.27315834, 0.28737889, 0.30169127, 0.3160579 ,\n",
       "        0.33044121, 0.34480363, 0.35910758, 0.3733155 , 0.3873898 ]),\n",
       " array([0.3873898 , 0.40129991, 0.41504318, 0.42862395, 0.44204659,\n",
       "        0.45531544, 0.46843483, 0.48140914, 0.49424269, 0.50693984,\n",
       "        0.51950494, 0.53194233, 0.54425636, 0.55645139, 0.56853175,\n",
       "        0.58050181, 0.5923659 , 0.60412837, 0.61579357, 0.62736585]),\n",
       " array([0.62736585, 0.63884877, 0.65024272, 0.66154731, 0.67276214,\n",
       "        0.68388683, 0.69492098, 0.7058642 , 0.71671609, 0.72747626,\n",
       "        0.73814431, 0.74871985, 0.7592025 , 0.76959184, 0.7798875 ,\n",
       "        0.79008908, 0.80019618, 0.81020841, 0.82012537, 0.82994668]),\n",
       " array([0.82994668, 0.83967225, 0.84930326, 0.85884118, 0.86828751,\n",
       "        0.87764372, 0.8869113 , 0.89609174, 0.90518652, 0.91419712,\n",
       "        0.92312503, 0.93197174, 0.94073872, 0.94942746, 0.95803945,\n",
       "        0.96657616, 0.97503909, 0.98342972, 0.99174953, 1.00000001]),\n",
       " array([1.00000001, 1.00818254, 1.01629811, 1.02434763, 1.03233198,\n",
       "        1.04025205, 1.04810875, 1.05590297, 1.06363559, 1.07130753,\n",
       "        1.07891966, 1.08647289, 1.0939681 , 1.1014062 , 1.10878807,\n",
       "        1.11611462, 1.12338673, 1.1306053 , 1.13777123, 1.1448854 ]),\n",
       " array([1.1448854 , 1.15194858, 1.15896095, 1.16592256, 1.17283347,\n",
       "        1.17969371, 1.18650335, 1.19326243, 1.199971  , 1.20662912,\n",
       "        1.21323682, 1.21979416, 1.22630119, 1.23275797, 1.23916453,\n",
       "        1.24552093, 1.25182722, 1.25808346, 1.26428968, 1.27044594]),\n",
       " array([1.27044594, 1.27655271, 1.2826122 , 1.28862703, 1.29459983,\n",
       "        1.30053322, 1.30642984, 1.31229231, 1.31812325, 1.3239253 ,\n",
       "        1.32970109, 1.33545322, 1.34118435, 1.34689708, 1.35259405,\n",
       "        1.35827789, 1.36395122, 1.36961667, 1.37527687, 1.38093444]),\n",
       " array([1.38093444, 1.38659026, 1.39223823, 1.39787046, 1.40347911,\n",
       "        1.4090563 , 1.41459418, 1.42008488, 1.42552054, 1.4308933 ,\n",
       "        1.43619529, 1.44141865, 1.44655552, 1.45159803, 1.45653833,\n",
       "        1.46136854, 1.46608081, 1.47066727, 1.47512006, 1.47943131]),\n",
       " array([1.47943131, 1.48497623, 1.49037961, 1.49564932, 1.50079322,\n",
       "        1.50581918, 1.51073506, 1.51554872, 1.52026803, 1.52490084,\n",
       "        1.52945502, 1.53393843, 1.53835894, 1.54272441, 1.5470427 ,\n",
       "        1.55132168, 1.55556921, 1.55979314, 1.56400135, 1.5682017 ])]"
      ]
     },
     "execution_count": 30,
     "metadata": {},
     "output_type": "execute_result"
    }
   ],
   "source": [
    "function_values = []\n",
    "for i in range(n-1):\n",
    "    function_values.append(np.array([float(functions[i].subs(x, val)) for val in x_values[i]]))\n",
    "function_values"
   ]
  },
  {
   "cell_type": "code",
   "execution_count": 31,
   "id": "653e1efb",
   "metadata": {},
   "outputs": [],
   "source": [
    "xx = np.linspace(0, 6, 50)\n",
    "y = np.array([np.log10(i**2 + 1) for i in xx])"
   ]
  },
  {
   "cell_type": "code",
   "execution_count": 79,
   "id": "107a7c4a",
   "metadata": {
    "scrolled": true
   },
   "outputs": [
    {
     "data": {
      "image/png": "[encoded data removed]",
      "text/plain": [
       "<Figure size 1440x1440 with 1 Axes>"
      ]
     },
     "metadata": {
      "needs_background": "light"
     },
     "output_type": "display_data"
    }
   ],
   "source": [
    "fig, ax = plt.subplots()\n",
    "#plt.rcParams[\"figure.figsize\"] = (20, 20)\n",
    "ax.xaxis.set_major_locator(ticker.MultipleLocator(1))\n",
    "ax.yaxis.set_major_locator(ticker.MultipleLocator(0.2))\n",
    "plt.grid()\n",
    "plt.xlabel(\"X\")\n",
    "plt.ylabel(\"Y\")\n",
    "plt.plot(xx, y, c=\"r\")\n",
    "for i in range(0, n-1):\n",
    "    plt.plot(x_values[i], function_values[i], c=\"b\")\n",
    "    \n",
    "plt.savefig(\"spline_plot.png\")\n"
   ]
  },
  {
   "cell_type": "markdown",
   "id": "cd728d2c",
   "metadata": {},
   "source": [
    "# Перевірка результатів"
   ]
  },
  {
   "cell_type": "code",
   "execution_count": 67,
   "id": "2c523be6",
   "metadata": {},
   "outputs": [],
   "source": [
    "epsilon = 10**-7\n",
    "def accuracy_check(a, b, eps):\n",
    "    if abs(a - b) < eps: return True\n",
    "    else: return False\n"
   ]
  },
  {
   "cell_type": "code",
   "execution_count": 82,
   "id": "91179dad",
   "metadata": {},
   "outputs": [],
   "source": [
    "def check_spline(func):\n",
    "    with open(\"check_cpline.txt\", \"w\") as main_file:\n",
    "        accuracy = True\n",
    "        for i in range(len(x_)):\n",
    "            if i == len(x_) - 1:\n",
    "                f = np.log10(x_[i]**2 + 1)\n",
    "                g = func[i-1].subs(x, x_[i])\n",
    "                print(f\"g_{i}({round(x_[i], 2)}) = {g}.\", file = main_file)\n",
    "                print(f\"f({round(x_[i], 2)}) = {f}.\", file = main_file)\n",
    "                if not(accuracy_check(f, g, epsilon)):\n",
    "                    accuracy = False\n",
    "            else:\n",
    "                f = np.log10(x_[i]**2 + 1)\n",
    "                g = func[i].subs(x, x_[i])\n",
    "                print(f\"g_{i+1}(x).....\", file = main_file)\n",
    "                print(f\"g_{i+1}({round(x_[i], 2)}) = {g}.\", file = main_file)\n",
    "                print(f\"f({round(x_[i], 2)}) = {f}.\", file = main_file)\n",
    "                if not(accuracy_check(f, g, epsilon)):\n",
    "                    accuracy = False\n",
    "                print(\"\\n\", file = main_file)\n",
    "        print(\"Висновок:\", file = main_file)\n",
    "        if accuracy:\n",
    "            print(\"Результати задовольняють точності 10**-7.\\n\", file = main_file)\n",
    "        else: print(\"Результати не задовольняють точності 10**-7.\\n\", file = main_file)\n",
    "        \n",
    "        print(\"\\nЗнайдемо другу похідну першого та останнього сплайну...\", file = main_file)\n",
    "        a = diff(diff(functions[0], x), x)\n",
    "        b = diff(diff(functions[-1], x), x)\n",
    "\n",
    "        print(f\"g1''(x) = {a}.\", file = main_file)\n",
    "        print(f\"g10''(x) = {b}.\", file = main_file)\n",
    "        print(\"Сплайн побудований правильно, якщо значення другої похідної першого сплайну в першій точці інтервалу \\nдорівнює значенню другої похідної останнього сплайну в останній точці інтервалу та дорівнює нулю.\", file = main_file)\n",
    "        print(\"Перевіримо:\", file = main_file)\n",
    "        print(f\"g1''({x_[0]}) = {a.subs(x, x_[0])}.\", file = main_file)\n",
    "        print(f\"g10''({x_[-1]}) = {b.subs(x, x_[-1])}.\", file = main_file)\n",
    "    \n",
    "          \n",
    "          \n",
    "check_spline(functions)\n"
   ]
  },
  {
   "cell_type": "code",
   "execution_count": 69,
   "id": "7c7fb20f",
   "metadata": {},
   "outputs": [
    {
     "data": {
      "text/plain": [
       "0.0"
      ]
     },
     "execution_count": 69,
     "metadata": {},
     "output_type": "execute_result"
    }
   ],
   "source": [
    "a = float(diff(diff(functions[0], x), x).subs(x, 0))\n",
    "a"
   ]
  },
  {
   "cell_type": "code",
   "execution_count": 70,
   "id": "83a68e1e",
   "metadata": {},
   "outputs": [
    {
     "data": {
      "text/plain": [
       "-2.220446049250313e-16"
      ]
     },
     "execution_count": 70,
     "metadata": {},
     "output_type": "execute_result"
    }
   ],
   "source": [
    "b = float(diff(diff(functions[-1], x), x).subs(x, 6))\n",
    "b"
   ]
  },
  {
   "cell_type": "code",
   "execution_count": 71,
   "id": "4d066758",
   "metadata": {},
   "outputs": [
    {
     "data": {
      "text/plain": [
       "True"
      ]
     },
     "execution_count": 71,
     "metadata": {},
     "output_type": "execute_result"
    }
   ],
   "source": [
    "accuracy_check(a, b, epsilon)"
   ]
  },
  {
   "cell_type": "code",
   "execution_count": null,
   "id": "d5208f6e",
   "metadata": {},
   "outputs": [],
   "source": []
  }
 ],
 "metadata": {
  "kernelspec": {
   "display_name": "Python 3",
   "language": "python",
   "name": "python3"
  },
  "language_info": {
   "codemirror_mode": {
    "name": "ipython",
    "version": 3
   },
   "file_extension": ".py",
   "mimetype": "text/x-python",
   "name": "python",
   "nbconvert_exporter": "python",
   "pygments_lexer": "ipython3",
   "version": "3.9.1"
  }
 },
 "nbformat": 4,
 "nbformat_minor": 5
}
